{
 "cells": [
  {
   "cell_type": "markdown",
   "metadata": {},
   "source": [
    "# ast 266 Imran Hasan HW 5"
   ]
  },
  {
   "cell_type": "code",
   "execution_count": 2,
   "metadata": {
    "collapsed": false
   },
   "outputs": [
    {
     "name": "stderr",
     "output_type": "stream",
     "text": [
      "/Users/ih64/anaconda2/lib/python2.7/site-packages/matplotlib/font_manager.py:273: UserWarning: Matplotlib is building the font cache using fc-list. This may take a moment.\n",
      "  warnings.warn('Matplotlib is building the font cache using fc-list. This may take a moment.')\n"
     ]
    }
   ],
   "source": [
    "import numpy as np\n",
    "from astropy.io import ascii\n",
    "import matplotlib\n",
    "import matplotlib.pyplot as plt\n",
    "%matplotlib inline\n",
    "matplotlib.style.use('ggplot')"
   ]
  },
  {
   "cell_type": "markdown",
   "metadata": {},
   "source": [
    "## Problem 1 Linear Fitting"
   ]
  },
  {
   "cell_type": "markdown",
   "metadata": {},
   "source": [
    "I've been told to use object oriented programming by the folks in the cosmo code meetings on Monday, research collaborators, and speakers. This seems like a nice opportunity to practice some OOP.\n",
    "\n",
    "Lets define a linearModel class in python. When we create an instance of the class we will show it our raw data.\n",
    "Then lets attatch some of the things we are interested in as attributes, like $\\alpha$ and $\\beta$.\n",
    "We can also make some methods to do things like creating model predictions\n",
    "\n",
    "We developed a lot of the blocks for this last week in hw4. Now we must organize it all into our class. \n",
    "\n",
    "also a breif confession: this is the 2nd time i'm writing a class so I have almost certainly violated some conventions. sorry."
   ]
  },
  {
   "cell_type": "code",
   "execution_count": 3,
   "metadata": {
    "collapsed": false
   },
   "outputs": [],
   "source": [
    "class linearFit:\n",
    "    def __init__(self,X,y,dy):\n",
    "        '''\n",
    "        X: a matrix with n rows and m columns, where n is the number of of data points\n",
    "            and m is the number of functions in the linear model. the ith column\n",
    "            represents the ith function in the model\n",
    "        y: a column vector of length n, containing the 'true' values we are trying to fit\n",
    "        dy: a column vector of length n, containing the uncertainty in y values\n",
    "        '''\n",
    "        #set the input arguments the user passes to the class when creating an object\n",
    "        #to be attributes of the class\n",
    "        self.X=X\n",
    "        self.y=y\n",
    "        self.dy=dy\n",
    "        \n",
    "        #now we can use these inputs to define other attributes\n",
    "        #create a square matrix that has the errors along the diagonal\n",
    "        self.Sig_y=np.diag(np.square(dy.flatten()))\n",
    "        \n",
    "        #also define the inverse of this matrix. \n",
    "        #this will be useful in calculating alpha and beta\n",
    "        self.Sig_y_inv=np.linalg.pinv(self.Sig_y)\n",
    "        \n",
    "        #now lets define alpha and beta\n",
    "        self.beta=X.T.dot(self.Sig_y_inv.dot(y))\n",
    "        self.alpha=X.T.dot((self.Sig_y_inv.dot(X)))\n",
    "        \n",
    "    def fit(self):\n",
    "        '''\n",
    "        this method will use the input the user provided to calculate the matrix a,\n",
    "        which contains the best fit parameters for a linear model\n",
    "        '''\n",
    "        #take the inverse of alpha\n",
    "        alpha_inv=np.linalg.pinv(self.alpha)\n",
    "        #finally solve for the parameters\n",
    "        a=alpha_inv.dot(self.beta)\n",
    "        self.a=a\n",
    "        #print \"the model parameters are \"\n",
    "        #print a\n",
    "        #return a\n",
    "    \n",
    "    def predict(self,x):\n",
    "        '''uses a matrix x and the best fit parameters a to create model predictions for different y values'''\n",
    "        y_model=x.dot(self.a)\n",
    "        return y_model\n",
    "    \n"
   ]
  },
  {
   "cell_type": "code",
   "execution_count": 4,
   "metadata": {
    "collapsed": false
   },
   "outputs": [],
   "source": [
    "#now we must read in the data and use it to make our object\n",
    "data_table=ascii.read('xy_fitting.txt')\n",
    "\n",
    "#neatly package our data. the matrix x is padded with ones\n",
    "#because the model includes a constant function\n",
    "#the errors for each y is 5.0\n",
    "X=np.hstack((np.ones((50,1)),data_table['col1'].data.reshape(50,1)))\n",
    "y=data_table['col2'].data.reshape(50,1)\n",
    "dy=np.ones((50,1))*5.0"
   ]
  },
  {
   "cell_type": "markdown",
   "metadata": {},
   "source": [
    "## Problem 1 a report parameters of the fit"
   ]
  },
  {
   "cell_type": "code",
   "execution_count": 5,
   "metadata": {
    "collapsed": false
   },
   "outputs": [
    {
     "name": "stdout",
     "output_type": "stream",
     "text": [
      "our matrix alpha is\n",
      "[[  2.00000000e+00   9.74975275e+01]\n",
      " [  9.74975275e+01   6.25141612e+03]]\n",
      "our vector beta is\n",
      "[[ -19.07267259]\n",
      " [-374.15702405]]\n"
     ]
    }
   ],
   "source": [
    "#create an object from the linearFit class. we will get alpha and beta 'for free' so just print them out\n",
    "our_model=linearFit(X,y,dy)\n",
    "print \"our matrix alpha is\"\n",
    "print our_model.alpha\n",
    "print \"our vector beta is\"\n",
    "print our_model.beta"
   ]
  },
  {
   "cell_type": "code",
   "execution_count": 6,
   "metadata": {
    "collapsed": false
   },
   "outputs": [
    {
     "name": "stdout",
     "output_type": "stream",
     "text": [
      "the covariance matrix is\n",
      "[[  2.08584648e+00  -3.25310090e-02]\n",
      " [ -3.25310090e-02   6.67319672e-04]]\n"
     ]
    }
   ],
   "source": [
    "#we can get the covariance matrix by inverting alpha\n",
    "C=np.linalg.pinv(our_model.alpha)\n",
    "print \"the covariance matrix is\"\n",
    "print C"
   ]
  },
  {
   "cell_type": "code",
   "execution_count": 7,
   "metadata": {
    "collapsed": false
   },
   "outputs": [
    {
     "name": "stdout",
     "output_type": "stream",
     "text": [
      "the uncertainties in a0 and a1 are 1.444 and 0.026 respectively\n"
     ]
    },
    {
     "name": "stderr",
     "output_type": "stream",
     "text": [
      "/Users/ih64/anaconda2/lib/python2.7/site-packages/ipykernel/__main__.py:3: RuntimeWarning: invalid value encountered in sqrt\n",
      "  app.launch_new_instance()\n"
     ]
    }
   ],
   "source": [
    "#the variances for a0 and a1 are the diagonal elements of the covariance matrix\n",
    "#to get their uncertainties we just need to take the square root\n",
    "Csqrt=np.sqrt(C)\n",
    "print \"the uncertainties in a0 and a1 are %.3f and %.3f respectively\" %(Csqrt[0,0], Csqrt[1,1])"
   ]
  },
  {
   "cell_type": "code",
   "execution_count": 8,
   "metadata": {
    "collapsed": false
   },
   "outputs": [
    {
     "name": "stdout",
     "output_type": "stream",
     "text": [
      "our best fit parameters are\n",
      "[[-27.61096136]\n",
      " [  0.37077094]]\n"
     ]
    }
   ],
   "source": [
    "#use the fit method of the our_model object, then print the best fit parameters\n",
    "our_model.fit()\n",
    "print \"our best fit parameters are\"\n",
    "print our_model.a"
   ]
  },
  {
   "cell_type": "markdown",
   "metadata": {},
   "source": [
    "## Problem 1C Plot the data and fit"
   ]
  },
  {
   "cell_type": "code",
   "execution_count": 9,
   "metadata": {
    "collapsed": false
   },
   "outputs": [
    {
     "data": {
      "text/plain": [
       "<matplotlib.text.Text at 0x10d444d90>"
      ]
     },
     "execution_count": 9,
     "metadata": {},
     "output_type": "execute_result"
    },
    {
     "data": {
      "image/png": "[encoded data removed]",
      "text/plain": [
       "<matplotlib.figure.Figure at 0x10bbb7850>"
      ]
     },
     "metadata": {},
     "output_type": "display_data"
    }
   ],
   "source": [
    "#now we can create predictions using the best fit parameters\n",
    "#and use those to compare with the actual data\n",
    "y_predictions=our_model.predict(X)\n",
    "\n",
    "fig=plt.figure(figsize=(14,6))\n",
    "\n",
    "ax1=fig.add_subplot(121)\n",
    "ax1.errorbar(X[:,1],y,np.sqrt(dy), fmt='o', label=\"data\")\n",
    "ax1.plot(X[:,1],y_predictions,'b',lw=1, label=\"model\")\n",
    "ax1.set_xlabel('x values')\n",
    "ax1.set_ylabel('y values')\n",
    "ax1.legend(loc='lower right')\n",
    "\n",
    "\n",
    "ax2=fig.add_subplot(122)\n",
    "ax2.plot(X[:,1], y.flatten() - y_predictions.flatten(), 'ro')\n",
    "ax2.set_xlabel('x values')\n",
    "ax2.set_ylabel('residuals')"
   ]
  },
  {
   "cell_type": "markdown",
   "metadata": {},
   "source": [
    "## Problem 1d Compute $\\chi^2$ and $\\chi^2_\\nu$"
   ]
  },
  {
   "cell_type": "code",
   "execution_count": 10,
   "metadata": {
    "collapsed": false
   },
   "outputs": [
    {
     "name": "stdout",
     "output_type": "stream",
     "text": [
      "the chi square and reduced chi square are 55.784 and 1.162 respectively\n"
     ]
    }
   ],
   "source": [
    "#to calculate chi squared we take the square of the difference between the model and prediction\n",
    "#for each data point, normalize by the variance of that data point, and compute the sum\n",
    "chisq=np.square((y.flatten() - y_predictions.flatten())).sum()/25.0\n",
    "\n",
    "#to calculate the reduced chi squrare we normalize chi square by 2 less than the number of data points\n",
    "#since this model has 2 parameters, a1 and a0\n",
    "chisq_reduced=chisq/48.\n",
    "\n",
    "print \"the chi square and reduced chi square are %.3f and %.3f respectively\" % (chisq, chisq_reduced)"
   ]
  },
  {
   "cell_type": "markdown",
   "metadata": {},
   "source": [
    "A reduced $\\chi^2 \\approx 1$ is considered a good fit, in that the models deviations from the true data are well explained by the data's variance. By this metric, this model is pretty good. Additionally, the residuals do not show any troublesome structure-at least when looking at a quick plot"
   ]
  },
  {
   "cell_type": "markdown",
   "metadata": {},
   "source": [
    "## Problem 2: Chi Square Grid Search"
   ]
  },
  {
   "cell_type": "markdown",
   "metadata": {},
   "source": [
    "The 100x99 square parameter grid will define 9900 elements, and at each one we need to calculate a fit along with the reduced chi square. \n",
    "\n",
    "After googling through the documentation and stack over flow, I found a few helpful numpy functions which can help us do this in a (mostly) vectorized way. There are a few for loops that I can't avoid, however."
   ]
  },
  {
   "cell_type": "code",
   "execution_count": 11,
   "metadata": {
    "collapsed": false
   },
   "outputs": [],
   "source": [
    "#first we will use meshgrid to define a parameter space that will help us try out many combinations of a0 and a1\n",
    "a0=our_model.a[0,0]\n",
    "a1=our_model.a[1,0]\n",
    "\n",
    "a0_sig=Csqrt[0,0]\n",
    "a1_sig=Csqrt[1,1]\n",
    "\n",
    "a0_vector=np.linspace(a0-4*a0_sig, a0+4*a0_sig, 100)\n",
    "a1_vector=np.linspace(a1-4*a1_sig, a1+4*a1_sig, 99)\n",
    "\n",
    "a0xx, a1yy = np.meshgrid(a0_vector, a1_vector)"
   ]
  },
  {
   "cell_type": "code",
   "execution_count": 12,
   "metadata": {
    "collapsed": false
   },
   "outputs": [
    {
     "data": {
      "text/plain": [
       "array([[-33.38794532, -33.27123857, -33.15453182, ..., -22.0673909 ,\n",
       "        -21.95068416, -21.83397741],\n",
       "       [-33.38794532, -33.27123857, -33.15453182, ..., -22.0673909 ,\n",
       "        -21.95068416, -21.83397741],\n",
       "       [-33.38794532, -33.27123857, -33.15453182, ..., -22.0673909 ,\n",
       "        -21.95068416, -21.83397741],\n",
       "       ..., \n",
       "       [-33.38794532, -33.27123857, -33.15453182, ..., -22.0673909 ,\n",
       "        -21.95068416, -21.83397741],\n",
       "       [-33.38794532, -33.27123857, -33.15453182, ..., -22.0673909 ,\n",
       "        -21.95068416, -21.83397741],\n",
       "       [-33.38794532, -33.27123857, -33.15453182, ..., -22.0673909 ,\n",
       "        -21.95068416, -21.83397741]])"
      ]
     },
     "execution_count": 12,
     "metadata": {},
     "output_type": "execute_result"
    }
   ],
   "source": [
    "#lets take a peak at a0xx and a1yy so we can understand them a bit\n",
    "a0xx"
   ]
  },
  {
   "cell_type": "code",
   "execution_count": 13,
   "metadata": {
    "collapsed": false
   },
   "outputs": [
    {
     "data": {
      "text/plain": [
       "array([[ 0.26744082,  0.26744082,  0.26744082, ...,  0.26744082,\n",
       "         0.26744082,  0.26744082],\n",
       "       [ 0.2695496 ,  0.2695496 ,  0.2695496 , ...,  0.2695496 ,\n",
       "         0.2695496 ,  0.2695496 ],\n",
       "       [ 0.27165837,  0.27165837,  0.27165837, ...,  0.27165837,\n",
       "         0.27165837,  0.27165837],\n",
       "       ..., \n",
       "       [ 0.46988351,  0.46988351,  0.46988351, ...,  0.46988351,\n",
       "         0.46988351,  0.46988351],\n",
       "       [ 0.47199229,  0.47199229,  0.47199229, ...,  0.47199229,\n",
       "         0.47199229,  0.47199229],\n",
       "       [ 0.47410107,  0.47410107,  0.47410107, ...,  0.47410107,\n",
       "         0.47410107,  0.47410107]])"
      ]
     },
     "execution_count": 13,
     "metadata": {},
     "output_type": "execute_result"
    }
   ],
   "source": [
    "a1yy"
   ]
  },
  {
   "cell_type": "markdown",
   "metadata": {},
   "source": [
    "Both a1yy and a0xx have a shape (99,100). the first row of a0xx is the a0_vector itself. all the rows below are copies of this. The first column of a1yy is a1_vector itself, and all the other columns are copies of this.\n",
    "\n",
    "So if you imagine placing a0xx over a1yy, every element would represent a unique pairing of the different a0's and a1's that are in the vectors a0_vector and a1_vector.\n",
    "\n",
    "This is going to help us to try out all the different combinations of varying parameters a0 and a1\n",
    "\n",
    "Ultimately we want to have a (99,100) grid where every element on the grid represents a $\\chi^2$ value for the unique pairing of a0 and a1 specified at that location. So we will have to work our way there from what we've got.\n",
    "\n",
    "To calculate a $\\chi^2$ we need to do a few things.\n",
    "\n",
    "1. calculate 50 prediction ys using the a0 and a1 specified at each location in the grid\n",
    "2. square the difference of the predicted ys from the true y's (again for every a0 a1 pairing), and normalize by their variances\n",
    "3. sum over the reduced square of differences from the previous step"
   ]
  },
  {
   "cell_type": "markdown",
   "metadata": {},
   "source": [
    "Lets start with the first task on our list. We need a way to use our a0xx and a1yy to create predictions for each of the x's we have. Since we have 50 x's we will extend the 2d arrays a0xx and a1yy into 3d arrays. the extra dimension will be of size 50-one 'level' for each xi. At each level in these 3d arrays we will simply find a copy of the 2d arrays a0xx and a1yy. We can use this to evaluate a model y for every pairing of a0 and a1.\n",
    "\n",
    "At this point, I needed to use a for loop, but we only loop over 50 indicies and do assignments-not very computationally expensive."
   ]
  },
  {
   "cell_type": "code",
   "execution_count": 14,
   "metadata": {
    "collapsed": true
   },
   "outputs": [],
   "source": [
    "#make a little vector of x's\n",
    "#and a little vector of the y's\n",
    "x_data=data_table['col1'].data\n",
    "y_data=data_table['col2'].data\n",
    "\n",
    "#initialize our 3d version of a0xx and a1yy as 0 arrays. \n",
    "a0xx_3d=np.zeros((50,99,100))\n",
    "a1yy_3d=np.zeros((50,99,100))\n",
    "\n",
    "#we will then loop through and assign the values at each level\n",
    "for i in xrange(0,50):\n",
    "    a0xx_3d[i,:,:]=a0xx\n",
    "    a1yy_3d[i,:,:]=a1yy"
   ]
  },
  {
   "cell_type": "markdown",
   "metadata": {},
   "source": [
    "Our model requires all the parameters a1 to be multiplied by an xi. we have 50 'levels' of the a1 mesh, each level will be multiplied by a different x value. Then add the a0's to get predictions at every point in the grid"
   ]
  },
  {
   "cell_type": "code",
   "execution_count": 15,
   "metadata": {
    "collapsed": true
   },
   "outputs": [],
   "source": [
    "#the np.newaxis essentially makes the x_data array look like it has the right shape\n",
    "#to the np.multiply function, which does elementwise multiplicaiton\n",
    "prediction_grid_3d = np.add(a0xx_3d, np.multiply(a1yy_3d, x_data[:,np.newaxis,np.newaxis]))"
   ]
  },
  {
   "cell_type": "markdown",
   "metadata": {},
   "source": [
    "Now prediction_grid_3d is a (50,99,100) array. The ith element from first dimension holds a 99x100 grid. The j'th element on one of the ith grids is a prediction for the ith x data point, for a unique pairing of a0 and a1. To calculate the chi square, we are now on step two of our outlined plan above"
   ]
  },
  {
   "cell_type": "code",
   "execution_count": 16,
   "metadata": {
    "collapsed": false
   },
   "outputs": [],
   "source": [
    "#subtract the predictions from the true data\n",
    "residual_3d=np.subtract(prediction_grid_3d, y_data[:,np.newaxis,np.newaxis])\n",
    "\n",
    "#square the differences, normalize by the sq error in y\n",
    "chi_sq_3d=np.square(residual_3d)/25.\n",
    "\n",
    "#sum along the first dimension\n",
    "chi_sq_grid=chi_sq_3d.sum(axis=0)"
   ]
  },
  {
   "cell_type": "code",
   "execution_count": 17,
   "metadata": {
    "collapsed": false
   },
   "outputs": [
    {
     "data": {
      "text/plain": [
       "(99, 100)"
      ]
     },
     "execution_count": 17,
     "metadata": {},
     "output_type": "execute_result"
    }
   ],
   "source": [
    "#lets check that this actually has the right shape\n",
    "chi_sq_grid.shape"
   ]
  },
  {
   "cell_type": "markdown",
   "metadata": {},
   "source": [
    "## 2 a) plot contours of $\\chi^2$ = 2.3 and 6.18"
   ]
  },
  {
   "cell_type": "code",
   "execution_count": 18,
   "metadata": {
    "collapsed": false
   },
   "outputs": [
    {
     "data": {
      "text/plain": [
       "<matplotlib.text.Text at 0x113940c90>"
      ]
     },
     "execution_count": 18,
     "metadata": {},
     "output_type": "execute_result"
    },
    {
     "data": {
      "image/png": "[encoded data removed]",
      "text/plain": [
       "<matplotlib.figure.Figure at 0x11031ce10>"
      ]
     },
     "metadata": {},
     "output_type": "display_data"
    }
   ],
   "source": [
    "levels=[2.3,6.18]\n",
    "#plt.imshow(chi_sq_grid-chisq, cmap='gray', origin='lower')\n",
    "plt.contour(a0xx, a1yy, chi_sq_grid-chisq, levels, colors=['r','b'])\n",
    "plt.ylabel('a1')\n",
    "plt.xlabel('a0')\n",
    "plt.title('$\\Delta \\chi^2$')"
   ]
  },
  {
   "cell_type": "markdown",
   "metadata": {},
   "source": [
    "This is a model which contains 2 parameters. So a $\\Delta \\chi^2 $ of 2.3 and 6.18 correspond to confidence intervals of 68% and 95.5% respectively"
   ]
  },
  {
   "cell_type": "markdown",
   "metadata": {},
   "source": [
    "## 2 b) Calculate the Posterior PDF and plot contours to show the 68% and 95.4% confidence intervals"
   ]
  },
  {
   "cell_type": "markdown",
   "metadata": {},
   "source": [
    "To get posterior at each point in our grid, we can first take exp(-.5 $\\chi^2$) of each point to compute the liklihood there. Let us then assume uniform priors on a0 and a1. Computing the posterior will then boil down to multiplying the liklihood by a constant, and then normalizing it-which just involves dividing it by another constant. \n",
    "\n",
    "We can save ourselves a bit of work by just normalizing the liklihoods. This will be equivalent to scaling the liklihoods by the priors and then normalizing them."
   ]
  },
  {
   "cell_type": "code",
   "execution_count": 69,
   "metadata": {
    "collapsed": true
   },
   "outputs": [],
   "source": [
    "#find the liklihoods at each point using the method discussed above\n",
    "liklihood=np.exp(-.5*chi_sq_grid)\n",
    "liklihood /= liklihood.sum()\n",
    "\n",
    "#make a copy of this flatten it, and sort it\n",
    "likcp=liklihood.copy()\n",
    "likcpflat=likcp.flatten()\n",
    "likcpflat.sort()"
   ]
  },
  {
   "cell_type": "code",
   "execution_count": 70,
   "metadata": {
    "collapsed": false
   },
   "outputs": [
    {
     "data": {
      "text/plain": [
       "array([531])"
      ]
     },
     "execution_count": 70,
     "metadata": {},
     "output_type": "execute_result"
    }
   ],
   "source": [
    "#reverse the sorted array so its in decreasing order\n",
    "#then pick off the index of the first index where the cumulative sum exceeds .68\n",
    "np.argwhere(np.cumsum(likcpflat[::-1]) > .68)[0]"
   ]
  },
  {
   "cell_type": "code",
   "execution_count": 71,
   "metadata": {
    "collapsed": false
   },
   "outputs": [
    {
     "data": {
      "text/plain": [
       "array([1435])"
      ]
     },
     "execution_count": 71,
     "metadata": {},
     "output_type": "execute_result"
    }
   ],
   "source": [
    "#reverse the sorted array so its in decreasing order\n",
    "#then pick off the index of the first index where the cumulative sum exceeds .954\n",
    "np.argwhere(np.cumsum(likcpflat[::-1]) > .954)[0]"
   ]
  },
  {
   "cell_type": "code",
   "execution_count": 77,
   "metadata": {
    "collapsed": false
   },
   "outputs": [
    {
     "name": "stdout",
     "output_type": "stream",
     "text": [
      "posterior at 68% percent level is 9.73010172111e-05\n",
      "posterior at 95.4% level is 0.000685611151079\n"
     ]
    }
   ],
   "source": [
    "#we can use the indicies to grab the posterior probabilities that correspond\n",
    "#to the .68 and .954 confidence intervals\n",
    "print \"posterior at 68% percent level is \"+str(likcpflat[::-1][1435])\n",
    "print \"posterior at 95.4% level is \"+str(likcpflat[::-1][531])"
   ]
  },
  {
   "cell_type": "code",
   "execution_count": 78,
   "metadata": {
    "collapsed": false
   },
   "outputs": [
    {
     "data": {
      "text/plain": [
       "<matplotlib.text.Text at 0x1152c3ed0>"
      ]
     },
     "execution_count": 78,
     "metadata": {},
     "output_type": "execute_result"
    },
    {
     "data": {
      "image/png": "[encoded data removed]",
      "text/plain": [
       "<matplotlib.figure.Figure at 0x115ed32d0>"
      ]
     },
     "metadata": {},
     "output_type": "display_data"
    }
   ],
   "source": [
    "plevels=[likcpflat[::-1][1435], likcpflat[::-1][531]]\n",
    "plt.contour(a0xx, a1yy, liklihood, plevels, colors=['b','r'])\n",
    "plt.ylabel('a1')\n",
    "plt.xlabel('a0')\n",
    "plt.title('posterior')"
   ]
  },
  {
   "cell_type": "markdown",
   "metadata": {},
   "source": [
    "Our confidence level contours agree with the delta chi square contours. We expect this to be true. The delta chi sq of 2.3 and 6.18 correspond to confidence intervals of 68 and 95.4 % respectively for a model that consists of 2 parameters."
   ]
  },
  {
   "cell_type": "markdown",
   "metadata": {},
   "source": [
    "## 3 a) Confidence regions for a0 and a1"
   ]
  },
  {
   "cell_type": "code",
   "execution_count": 41,
   "metadata": {
    "collapsed": false
   },
   "outputs": [],
   "source": [
    "#we can use np.min to find the minimums in the a0 direction and the a1 direction quickly\n",
    "a0_mins=np.min((chi_sq_grid - chisq), axis=0)\n",
    "a1_mins=np.min((chi_sq_grid - chisq), axis=1)"
   ]
  },
  {
   "cell_type": "code",
   "execution_count": 49,
   "metadata": {
    "collapsed": false
   },
   "outputs": [],
   "source": [
    "def find_loc(x,thresh,n):\n",
    "    '''little helper function to take care of some of the printing for us\n",
    "    input:\n",
    "        x: an np.array\n",
    "        thresh: the threshold you want to search x for\n",
    "        n: the nth element to appear in x above threshold\n",
    "    output:\n",
    "        prints the index of the first element in x that is above the threshold\n",
    "        x_of_i: x evaluated at the index'''\n",
    "    index = np.argwhere(x <= thresh)[n][0]\n",
    "    print \"index is %i: the value is %.5f\" %(index, x[index])\n",
    "    return index"
   ]
  },
  {
   "cell_type": "code",
   "execution_count": 52,
   "metadata": {
    "collapsed": false
   },
   "outputs": [
    {
     "name": "stdout",
     "output_type": "stream",
     "text": [
      "index is 38: the value is 0.86374\n",
      "index is 61: the value is 0.86374\n",
      "index is 37: the value is 0.95973\n",
      "index is 61: the value is 0.95973\n"
     ]
    }
   ],
   "source": [
    "#indicies for a0's upper and lower bound for delta chi=1\n",
    "a0_mins_upper_68=find_loc(a0_mins,1,0)\n",
    "a0_mins_lower_68=find_loc(a0_mins,1,-1)\n",
    "\n",
    "#indicies for a1's upper and lower bound for delta chi=1\n",
    "a1_mins_upper_68=find_loc(a1_mins,1,0)\n",
    "a1_mins_lower_68=find_loc(a1_mins,1,-1)"
   ]
  },
  {
   "cell_type": "code",
   "execution_count": 53,
   "metadata": {
    "collapsed": false
   },
   "outputs": [
    {
     "name": "stdout",
     "output_type": "stream",
     "text": [
      "the lower and upper bounds of a0 for delta chisq =1 are -26.2688 and -28.9531 respectively\n",
      "the lower and upper bounds of a1 for delta chisq =1 are 0.3961 and 0.3455 respectively\n"
     ]
    }
   ],
   "source": [
    "print \"the upper and lower bounds of a0 for delta chisq =1 are %.4f and %.4f respectively\" %(a0_vector[a0_mins_lower], a0_vector[a0_mins_upper])\n",
    "print \"the upper and lower bounds of a1 for delta chisq =1 are %.4f and %.4f respectively\" %(a1_vector[a1_mins_lower], a1_vector[a1_mins_upper])"
   ]
  },
  {
   "cell_type": "code",
   "execution_count": 55,
   "metadata": {
    "collapsed": false
   },
   "outputs": [
    {
     "name": "stdout",
     "output_type": "stream",
     "text": [
      "index is 25: the value is 3.92020\n",
      "index is 74: the value is 3.92020\n",
      "index is 25: the value is 3.84193\n",
      "index is 73: the value is 3.84193\n"
     ]
    }
   ],
   "source": [
    "#for the 95% confidence region we search for a delta chi sq of 4\n",
    "##indicies for a0's upper and lower bound for delta chi=1\n",
    "a0_mins_upper_95=find_loc(a0_mins,4,0)\n",
    "a0_mins_lower_95=find_loc(a0_mins,4,-1)\n",
    "\n",
    "#indicies for a1's upper and lower bound for delta chi=1\n",
    "a1_mins_upper_95=find_loc(a1_mins,4,0)\n",
    "a1_mins_lower_95=find_loc(a1_mins,4,-1)"
   ]
  },
  {
   "cell_type": "code",
   "execution_count": 57,
   "metadata": {
    "collapsed": false
   },
   "outputs": [
    {
     "name": "stdout",
     "output_type": "stream",
     "text": [
      "the upper and lower bounds of a0 for delta chisq =4 are -24.7516 and -30.4703 respectively\n",
      "the upper and lower bounds of a1 for delta chisq =4 are 0.3202 and 0.4214 respectively\n"
     ]
    }
   ],
   "source": [
    "print \"the upper and lower bounds of a0 for delta chisq =4 are %.4f and %.4f respectively\" %(a0_vector[a0_mins_lower_95], a0_vector[a0_mins_upper_95])\n",
    "print \"the upper and lower bounds of a1 for delta chisq =4 are %.4f and %.4f respectively\" %(a1_vector[a1_mins_upper_95], a1_vector[a1_mins_lower_95])"
   ]
  },
  {
   "cell_type": "code",
   "execution_count": 59,
   "metadata": {
    "collapsed": false
   },
   "outputs": [
    {
     "name": "stdout",
     "output_type": "stream",
     "text": [
      "the uncertainty in a0 is 1.400\n",
      "the uncertainty in a1 is 0.025\n"
     ]
    }
   ],
   "source": [
    "#to find the corresponding uncertanties we need to see\n",
    "#what departure from the minimum delta chi sq this corresponds to\n",
    "print \"the uncertainty in a0 is %.3f\" %(a0_vector[np.argmin(a0_mins)] - a0_vector[38])\n",
    "print \"the uncertainty in a1 is %.3f\" %(a1_vector[np.argmin(a1_mins)] - a1_vector[37])"
   ]
  },
  {
   "cell_type": "markdown",
   "metadata": {},
   "source": [
    "the covariance matrix gave us corresponding uncertainties of 1.444 and .026. these values are within 5% or so of those values. the discrepency may be from the descrete treatment of errors we have in this approach. perhaps if we made an even finer grid we would get closer values"
   ]
  },
  {
   "cell_type": "code",
   "execution_count": 60,
   "metadata": {
    "collapsed": false
   },
   "outputs": [
    {
     "data": {
      "text/plain": [
       "<matplotlib.legend.Legend at 0x11579d910>"
      ]
     },
     "execution_count": 60,
     "metadata": {},
     "output_type": "execute_result"
    },
    {
     "data": {
      "image/png": "[encoded data removed]",
      "text/plain": [
       "<matplotlib.figure.Figure at 0x11031ce50>"
      ]
     },
     "metadata": {},
     "output_type": "display_data"
    }
   ],
   "source": [
    "#lets make a plot using the indicies that describe the upper and lower bounds \n",
    "#of our confidence intervals for 68% and 95.4% we calculated above\n",
    "plt.plot(a0_vector, a0_mins, label='a0 delta chi sq')\n",
    "plt.axvline(x=a0_vector[38],linestyle='--',color='k', label='68%')\n",
    "plt.axvline(x=a0_vector[61],linestyle='--', color='k')\n",
    "plt.axvline(x=a0_vector[25],linestyle='--', label='95.4%')\n",
    "plt.axvline(x=a0_vector[74],linestyle='--')\n",
    "plt.ylabel('delta chi sq')\n",
    "plt.xlabel('a0')\n",
    "plt.legend(loc='upper right')"
   ]
  },
  {
   "cell_type": "code",
   "execution_count": 61,
   "metadata": {
    "collapsed": false
   },
   "outputs": [
    {
     "data": {
      "text/plain": [
       "<matplotlib.legend.Legend at 0x115969c10>"
      ]
     },
     "execution_count": 61,
     "metadata": {},
     "output_type": "execute_result"
    },
    {
     "data": {
      "image/png": "[encoded data removed]",
      "text/plain": [
       "<matplotlib.figure.Figure at 0x1156109d0>"
      ]
     },
     "metadata": {},
     "output_type": "display_data"
    }
   ],
   "source": [
    "plt.plot(a1_vector, a1_mins, label='a1 delta chi sq')\n",
    "plt.axvline(x=a1_vector[37],linestyle='--',color='k', label='68%')\n",
    "plt.axvline(x=a1_vector[61],linestyle='--', color='k')\n",
    "plt.axvline(x=a1_vector[25],linestyle='--', label='95.4%')\n",
    "plt.axvline(x=a1_vector[73],linestyle='--')\n",
    "plt.ylabel('delta chi sq')\n",
    "plt.xlabel('a1')\n",
    "plt.legend(loc='upper right')"
   ]
  },
  {
   "cell_type": "markdown",
   "metadata": {},
   "source": [
    "## 3 b) Confidence Intervals on 1D PDFs"
   ]
  },
  {
   "cell_type": "markdown",
   "metadata": {},
   "source": [
    "First marginalize out unwanted parameters in order to obtain 1D PDFs for a0 and a1"
   ]
  },
  {
   "cell_type": "code",
   "execution_count": 62,
   "metadata": {
    "collapsed": false
   },
   "outputs": [],
   "source": [
    "#to get confidence regions on a1 and a0, we first marginalize over the unwanted parameters\n",
    "a1_marginalized=liklihood.sum(axis=1)\n",
    "a0_marginalized=liklihood.sum(axis=0)"
   ]
  },
  {
   "cell_type": "markdown",
   "metadata": {},
   "source": [
    "We want to find the bounds that define a 68% confidence region that is centered about the mean. To determine the interval, we use the CDF. Integrating up to 16% gives the lower bound of this interval. Integrating up to 84% gets us to the upper bound"
   ]
  },
  {
   "cell_type": "code",
   "execution_count": 63,
   "metadata": {
    "collapsed": false
   },
   "outputs": [
    {
     "name": "stdout",
     "output_type": "stream",
     "text": [
      "here come the indicies for the a0 vector corresponding to upper and lower bounds on 68% confidence\n",
      "[37]\n",
      "[62]\n"
     ]
    }
   ],
   "source": [
    "print \"here come the indicies for the a0 vector corresponding to upper and lower bounds on 68% confidence\"\n",
    "print np.argwhere(np.cumsum(a0_marginalized) > .16)[0]\n",
    "print np.argwhere(np.cumsum(a0_marginalized) > .84)[0]"
   ]
  },
  {
   "cell_type": "code",
   "execution_count": 64,
   "metadata": {
    "collapsed": false
   },
   "outputs": [
    {
     "data": {
      "text/plain": [
       "<matplotlib.legend.Legend at 0x115aee610>"
      ]
     },
     "execution_count": 64,
     "metadata": {},
     "output_type": "execute_result"
    },
    {
     "data": {
      "image/png": "[encoded data removed]",
      "text/plain": [
       "<matplotlib.figure.Figure at 0x115389510>"
      ]
     },
     "metadata": {},
     "output_type": "display_data"
    }
   ],
   "source": [
    "#plot up the PDF of a0, using vertical lines that idicate the lower and upper bounds for a 68% interval\n",
    "plt.plot(a0_vector,a0_marginalized, label='a0 PDF')\n",
    "plt.axvline(a0_vector[37],linestyle='--', label='68% CI')\n",
    "plt.axvline(a0_vector[62],linestyle='--')\n",
    "plt.xlabel('a0')\n",
    "plt.ylabel('liklihood')\n",
    "plt.legend(loc='upper right')"
   ]
  },
  {
   "cell_type": "markdown",
   "metadata": {},
   "source": [
    "We run through the same process to determine the 68% confidence interval for a1"
   ]
  },
  {
   "cell_type": "code",
   "execution_count": 65,
   "metadata": {
    "collapsed": false
   },
   "outputs": [
    {
     "name": "stdout",
     "output_type": "stream",
     "text": [
      "here come the indicies for the a1 vector corresponding to upper and lower bounds on 68% confidence\n",
      "[37]\n",
      "[61]\n"
     ]
    }
   ],
   "source": [
    "print \"here come the indicies for the a1 vector corresponding to upper and lower bounds on 68% confidence\"\n",
    "print np.argwhere(np.cumsum(a1_marginalized) > .16)[0]\n",
    "print np.argwhere(np.cumsum(a1_marginalized) > .84)[0]"
   ]
  },
  {
   "cell_type": "code",
   "execution_count": 66,
   "metadata": {
    "collapsed": false
   },
   "outputs": [
    {
     "name": "stdout",
     "output_type": "stream",
     "text": [
      "-29.0697956949\n",
      "-26.2688337779\n"
     ]
    }
   ],
   "source": [
    "#lets see what values these correspond to for a0\n",
    "print a0_vector[37]\n",
    "print a0_vector[61]"
   ]
  },
  {
   "cell_type": "markdown",
   "metadata": {},
   "source": [
    "These are very close to the values we found in 3a, which is encouraging"
   ]
  },
  {
   "cell_type": "code",
   "execution_count": 67,
   "metadata": {
    "collapsed": false
   },
   "outputs": [
    {
     "data": {
      "text/plain": [
       "<matplotlib.legend.Legend at 0x115bcbb10>"
      ]
     },
     "execution_count": 67,
     "metadata": {},
     "output_type": "execute_result"
    },
    {
     "data": {
      "image/png": "[encoded data removed]",
      "text/plain": [
       "<matplotlib.figure.Figure at 0x1156087d0>"
      ]
     },
     "metadata": {},
     "output_type": "display_data"
    }
   ],
   "source": [
    "plt.plot(a1_vector,a1_marginalized, label='a1 PDF')\n",
    "plt.axvline(a1_vector[37],linestyle='--', label='68% CI')\n",
    "plt.axvline(a1_vector[61],linestyle='--')\n",
    "plt.xlabel('a1')\n",
    "plt.ylabel('posterior')\n",
    "plt.legend(loc='upper right')"
   ]
  },
  {
   "cell_type": "markdown",
   "metadata": {},
   "source": [
    "Checking the values for a1 at this bound shows that they too are close to the values we found in 3a"
   ]
  },
  {
   "cell_type": "code",
   "execution_count": 68,
   "metadata": {
    "collapsed": false
   },
   "outputs": [
    {
     "name": "stdout",
     "output_type": "stream",
     "text": [
      "0.345465605275\n",
      "0.396076278782\n"
     ]
    }
   ],
   "source": [
    "print a1_vector[37]\n",
    "print a1_vector[61]"
   ]
  },
  {
   "cell_type": "markdown",
   "metadata": {},
   "source": [
    "It's also worth mentioning that we recovered the values of a0 an a1 that correspond to the lower limits of the 68% confidence region back in problem 2b. "
   ]
  },
  {
   "cell_type": "code",
   "execution_count": null,
   "metadata": {
    "collapsed": true
   },
   "outputs": [],
   "source": []
  }
 ],
 "metadata": {
  "anaconda-cloud": {},
  "kernelspec": {
   "display_name": "Python [Root]",
   "language": "python",
   "name": "Python [Root]"
  },
  "language_info": {
   "codemirror_mode": {
    "name": "ipython",
    "version": 2
   },
   "file_extension": ".py",
   "mimetype": "text/x-python",
   "name": "python",
   "nbconvert_exporter": "python",
   "pygments_lexer": "ipython2",
   "version": "2.7.12"
  }
 },
 "nbformat": 4,
 "nbformat_minor": 0
}
