{
 "cells": [
  {
   "cell_type": "code",
   "execution_count": 64,
   "metadata": {
    "collapsed": false
   },
   "outputs": [],
   "source": [
    "from astropy.io import ascii\n",
    "import numpy as np\n",
    "%matplotlib inline\n",
    "import matplotlib.pyplot as plt\n",
    "import matplotlib\n",
    "matplotlib.style.use('ggplot')"
   ]
  },
  {
   "cell_type": "markdown",
   "metadata": {},
   "source": [
    "## Problem 1: Using CDF to draw from non-standard PDF "
   ]
  },
  {
   "cell_type": "markdown",
   "metadata": {},
   "source": [
    "$P(y)$ must be normalized so that $\\int_0^1 P(y) \\, $d$y = 1$\n",
    "\n",
    "$\\int_0^1 ky \\,$d$y$ = k/2 = 1, so k = 2\n",
    "\n",
    "now we invert this equation to solve for y(x)\n",
    "\n",
    "$x = F(y) = \\int_0^y 2y' $d$y' = y^2 $\n",
    "\n",
    "$\\sqrt{x} = y(x)$"
   ]
  },
  {
   "cell_type": "code",
   "execution_count": 72,
   "metadata": {
    "collapsed": false
   },
   "outputs": [
    {
     "data": {
      "text/plain": [
       "<matplotlib.text.Text at 0x115e02550>"
      ]
     },
     "execution_count": 72,
     "metadata": {},
     "output_type": "execute_result"
    },
    {
     "data": {
      "image/png": "[encoded data removed]",
      "text/plain": [
       "<matplotlib.figure.Figure at 0x115e75310>"
      ]
     },
     "metadata": {},
     "output_type": "display_data"
    }
   ],
   "source": [
    "#sample 5000 points from a uniform distribution\n",
    "x=np.random.random(5000)\n",
    "#invert them using the expressing we found above to get our y's\n",
    "y=np.sqrt(x)\n",
    "#lets plot a histogram to see if we get the linear PDF we want\n",
    "plt.hist(y)\n",
    "plt.ylabel('frequency')\n",
    "plt.xlabel('y')"
   ]
  },
  {
   "cell_type": "markdown",
   "metadata": {},
   "source": [
    "## Problem 3: Covariance, correlation, and hypothesis testing"
   ]
  },
  {
   "cell_type": "code",
   "execution_count": 66,
   "metadata": {
    "collapsed": false
   },
   "outputs": [],
   "source": [
    "#read in the data\n",
    "table=ascii.read('lx_t.dat')\n",
    "\n",
    "#define our variables\n",
    "x=np.log10(table['L'].data)\n",
    "y=np.log10(table['T'].data)\n",
    "x_bar = x.mean()\n",
    "y_bar = y.mean()\n",
    "N=x.size\n",
    "\n",
    "#define departures from the mean. this will make some caluculations look neater below\n",
    "x_dep=(x-x_bar)\n",
    "y_dep=(y-y_bar)\n",
    "\n",
    "#calculate covariances. remember its symmetric so Cxy = Cyx\n",
    "Cxx=x_dep.dot(x_dep.T)/N\n",
    "Cyy=y_dep.dot(y_dep.T)/N\n",
    "Cxy=x_dep.dot(y_dep.T)/N\n",
    "\n",
    "#r can be constructed from the values we calculated\n",
    "r=Cxy/(np.sqrt(Cxx*Cyy))"
   ]
  },
  {
   "cell_type": "code",
   "execution_count": 26,
   "metadata": {
    "collapsed": false
   },
   "outputs": [
    {
     "data": {
      "text/plain": [
       "0.060522753266880246"
      ]
     },
     "execution_count": 26,
     "metadata": {},
     "output_type": "execute_result"
    }
   ],
   "source": [
    "1/np.sqrt(N)"
   ]
  },
  {
   "cell_type": "code",
   "execution_count": 27,
   "metadata": {
    "collapsed": false
   },
   "outputs": [
    {
     "data": {
      "text/plain": [
       "0.89690488054015771"
      ]
     },
     "execution_count": 27,
     "metadata": {},
     "output_type": "execute_result"
    }
   ],
   "source": [
    "r"
   ]
  },
  {
   "cell_type": "code",
   "execution_count": 67,
   "metadata": {
    "collapsed": true
   },
   "outputs": [],
   "source": [
    "a= y_bar - ((Cxy)/(Cxx**2))*x_bar\n",
    "\n",
    "b=((Cxy)/(Cxx**2))\n",
    "\n",
    "x_model = x.copy()\n",
    "\n",
    "x_model.sort()\n",
    "\n",
    "y_model =  a + b*x_model"
   ]
  },
  {
   "cell_type": "code",
   "execution_count": 69,
   "metadata": {
    "collapsed": false
   },
   "outputs": [
    {
     "data": {
      "text/plain": [
       "<matplotlib.legend.Legend at 0x115af7650>"
      ]
     },
     "execution_count": 69,
     "metadata": {},
     "output_type": "execute_result"
    },
    {
     "data": {
      "image/png": "[encoded data removed]",
      "text/plain": [
       "<matplotlib.figure.Figure at 0x115927490>"
      ]
     },
     "metadata": {},
     "output_type": "display_data"
    }
   ],
   "source": [
    "plt.xlabel('Log $_{10}$ L')\n",
    "plt.ylabel('Log $_{10}$ T')\n",
    "plt.plot(x, y, 'bo', ms=4.0, label='data')\n",
    "plt.plot(x_model, y_model, linewidth=3.0, label='model')\n",
    "plt.legend(loc=\"upper left\")"
   ]
  },
  {
   "cell_type": "code",
   "execution_count": null,
   "metadata": {
    "collapsed": true
   },
   "outputs": [],
   "source": []
  }
 ],
 "metadata": {
  "kernelspec": {
   "display_name": "Python [Root]",
   "language": "python",
   "name": "Python [Root]"
  },
  "language_info": {
   "codemirror_mode": {
    "name": "ipython",
    "version": 2
   },
   "file_extension": ".py",
   "mimetype": "text/x-python",
   "name": "python",
   "nbconvert_exporter": "python",
   "pygments_lexer": "ipython2",
   "version": "2.7.12"
  }
 },
 "nbformat": 4,
 "nbformat_minor": 0
}
