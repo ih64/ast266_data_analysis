{
 "cells": [
  {
   "cell_type": "code",
   "execution_count": 1,
   "metadata": {
    "collapsed": false
   },
   "outputs": [
    {
     "name": "stderr",
     "output_type": "stream",
     "text": [
      "/Users/ih64/anaconda2/lib/python2.7/site-packages/matplotlib/font_manager.py:273: UserWarning: Matplotlib is building the font cache using fc-list. This may take a moment.\n",
      "  warnings.warn('Matplotlib is building the font cache using fc-list. This may take a moment.')\n"
     ]
    }
   ],
   "source": [
    "from astropy.io import ascii\n",
    "import numpy as np\n",
    "%matplotlib inline\n",
    "import matplotlib.pyplot as plt\n",
    "import matplotlib\n",
    "matplotlib.style.use('ggplot')"
   ]
  },
  {
   "cell_type": "markdown",
   "metadata": {},
   "source": [
    "## Problem 1: Using CDF to draw from non-standard PDF "
   ]
  },
  {
   "cell_type": "markdown",
   "metadata": {},
   "source": [
    "$P(y)$ must be normalized so that $\\int_0^1 P(y) \\, $d$y = 1$\n",
    "\n",
    "$\\int_0^1 ky \\,$d$y$ = k/2 = 1, so k = 2\n",
    "\n",
    "now we invert this equation to solve for y(x)\n",
    "\n",
    "$x = F(y) = \\int_0^y 2y' $d$y' = y^2 $\n",
    "\n",
    "$\\sqrt{x} = y(x)$"
   ]
  },
  {
   "cell_type": "code",
   "execution_count": 2,
   "metadata": {
    "collapsed": false
   },
   "outputs": [
    {
     "data": {
      "text/plain": [
       "<matplotlib.text.Text at 0x10ec8e790>"
      ]
     },
     "execution_count": 2,
     "metadata": {},
     "output_type": "execute_result"
    },
    {
     "data": {
      "image/png": "[encoded data removed]",
      "text/plain": [
       "<matplotlib.figure.Figure at 0x10ca151d0>"
      ]
     },
     "metadata": {},
     "output_type": "display_data"
    }
   ],
   "source": [
    "#sample 5000 points from a uniform distribution\n",
    "x=np.random.random(5000)\n",
    "#invert them using the expression we found above to get our y's\n",
    "y=np.sqrt(x)\n",
    "#lets plot a histogram to see if we get the linear PDF we want\n",
    "plt.hist(y)\n",
    "plt.ylabel('frequency')\n",
    "plt.xlabel('y')"
   ]
  },
  {
   "cell_type": "markdown",
   "metadata": {},
   "source": [
    "## Problem 3: Covariance, correlation, and hypothesis testing"
   ]
  },
  {
   "cell_type": "code",
   "execution_count": 7,
   "metadata": {
    "collapsed": false
   },
   "outputs": [
    {
     "name": "stdout",
     "output_type": "stream",
     "text": [
      "the elements of the Covariance Matrix are Cxx = 1.048 Cyy = 0.084 and Cxy = Cyx = 0.266\n",
      "the value of our r statistic is 0.897\n"
     ]
    }
   ],
   "source": [
    "#read in the data\n",
    "table=ascii.read('lx_t.dat')\n",
    "\n",
    "#define our variables\n",
    "x=np.log10(table['L'].data)\n",
    "y=np.log10(table['T'].data)\n",
    "x_bar = x.mean()\n",
    "y_bar = y.mean()\n",
    "N=x.size\n",
    "\n",
    "#define departures from the mean. this will make some caluculations look neater below\n",
    "x_dep=(x-x_bar)\n",
    "y_dep=(y-y_bar)\n",
    "\n",
    "#calculate covariances. remember its symmetric so Cxy = Cyx\n",
    "Cxx=x_dep.dot(x_dep.T)/N\n",
    "Cyy=y_dep.dot(y_dep.T)/N\n",
    "Cxy=x_dep.dot(y_dep.T)/N\n",
    "\n",
    "#r can be constructed from the values we calculated\n",
    "r=Cxy/(np.sqrt(Cxx*Cyy))\n",
    "\n",
    "print \"the elements of the Covariance Matrix are Cxx = %.3f Cyy = %.3f and Cxy = Cyx = %.3f\" %(Cxx, Cyy, Cxy)\n",
    "print \"the value of our r statistic is %.3f\" %r"
   ]
  },
  {
   "cell_type": "code",
   "execution_count": 10,
   "metadata": {
    "collapsed": false
   },
   "outputs": [
    {
     "name": "stdout",
     "output_type": "stream",
     "text": [
      "our r statistic is 14.819 sigma away from the mean\n"
     ]
    }
   ],
   "source": [
    "#we calculate sigma for the distribution, assuming gaussian errors\n",
    "sig_gaus=1/np.sqrt(N)\n",
    "\n",
    "#now find how many sigma r is worth\n",
    "print \"our r statistic is %.3f sigma away from the mean\" %(r/sig_gaus)"
   ]
  },
  {
   "cell_type": "markdown",
   "metadata": {
    "collapsed": false
   },
   "source": [
    "the r statistic is ~14.8 $\\sigma$ away from the mean. A 95% level would be about 2 $\\sigma$. Our result is well above this threshold. As a result, we reject the null hypothesis that there is no correlation at the 95% level"
   ]
  },
  {
   "cell_type": "code",
   "execution_count": 11,
   "metadata": {
    "collapsed": true
   },
   "outputs": [],
   "source": [
    "#here we define the model parameters a and b that are defined in class.\n",
    "a= y_bar - ((Cxy)/(Cxx**2))*x_bar\n",
    "\n",
    "b=((Cxy)/(Cxx**2))\n",
    "\n",
    "#using these we can make predictions for our model\n",
    "#copy over the xdata\n",
    "x_model = x.copy()\n",
    "#sort the x data. this makes it ordered nicely when plotted\n",
    "x_model.sort()\n",
    "#use the x inputs to make y value predictions from our model\n",
    "y_model =  a + b*x_model"
   ]
  },
  {
   "cell_type": "code",
   "execution_count": 12,
   "metadata": {
    "collapsed": false
   },
   "outputs": [
    {
     "data": {
      "text/plain": [
       "<matplotlib.legend.Legend at 0x10ed4e6d0>"
      ]
     },
     "execution_count": 12,
     "metadata": {},
     "output_type": "execute_result"
    },
    {
     "data": {
      "image/png": "[encoded data removed]",
      "text/plain": [
       "<matplotlib.figure.Figure at 0x10ecad610>"
      ]
     },
     "metadata": {},
     "output_type": "display_data"
    }
   ],
   "source": [
    "plt.xlabel('Log $_{10}$ L')\n",
    "plt.ylabel('Log $_{10}$ T')\n",
    "plt.plot(x, y, 'bo', ms=4.0, label='data')\n",
    "plt.plot(x_model, y_model, linewidth=3.0, label='model')\n",
    "plt.legend(loc=\"upper left\")"
   ]
  },
  {
   "cell_type": "code",
   "execution_count": 14,
   "metadata": {
    "collapsed": false
   },
   "outputs": [
    {
     "name": "stdout",
     "output_type": "stream",
     "text": [
      "our values for a and b are -10.174 and 0.242 respectively\n"
     ]
    }
   ],
   "source": [
    "print \"our values for a and b are %.3f and %.3f respectively\" %(a, b)"
   ]
  },
  {
   "cell_type": "code",
   "execution_count": null,
   "metadata": {
    "collapsed": true
   },
   "outputs": [],
   "source": []
  }
 ],
 "metadata": {
  "anaconda-cloud": {},
  "kernelspec": {
   "display_name": "Python [Root]",
   "language": "python",
   "name": "Python [Root]"
  },
  "language_info": {
   "codemirror_mode": {
    "name": "ipython",
    "version": 2
   },
   "file_extension": ".py",
   "mimetype": "text/x-python",
   "name": "python",
   "nbconvert_exporter": "python",
   "pygments_lexer": "ipython2",
   "version": "2.7.12"
  }
 },
 "nbformat": 4,
 "nbformat_minor": 0
}
