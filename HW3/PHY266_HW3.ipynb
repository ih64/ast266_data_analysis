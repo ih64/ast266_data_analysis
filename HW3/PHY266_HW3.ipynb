{
 "cells": [
  {
   "cell_type": "markdown",
   "metadata": {},
   "source": [
    "# Ast 266, Imran Hasan, HW3"
   ]
  },
  {
   "cell_type": "code",
   "execution_count": 1,
   "metadata": {
    "collapsed": false
   },
   "outputs": [
    {
     "name": "stderr",
     "output_type": "stream",
     "text": [
      "/Users/ih64/anaconda2/lib/python2.7/site-packages/matplotlib/font_manager.py:273: UserWarning: Matplotlib is building the font cache using fc-list. This may take a moment.\n",
      "  warnings.warn('Matplotlib is building the font cache using fc-list. This may take a moment.')\n"
     ]
    }
   ],
   "source": [
    "from astropy.io import ascii\n",
    "import numpy as np\n",
    "%matplotlib inline\n",
    "import matplotlib.pyplot as plt\n",
    "import matplotlib\n",
    "matplotlib.style.use('ggplot')"
   ]
  },
  {
   "cell_type": "markdown",
   "metadata": {},
   "source": [
    "## Problem 1: Using CDF to draw from non-standard PDF "
   ]
  },
  {
   "cell_type": "markdown",
   "metadata": {},
   "source": [
    "$P(y)$ must be normalized so that $\\int_0^1 P(y) \\, $d$y = 1$\n",
    "\n",
    "$\\int_0^1 ky \\,$d$y$ = k/2 = 1, so k = 2\n",
    "\n",
    "now we invert this equation to solve for y(x)\n",
    "\n",
    "$x = F(y) = \\int_0^y 2y' $d$y' = y^2 $\n",
    "\n",
    "$\\sqrt{x} = y(x)$"
   ]
  },
  {
   "cell_type": "code",
   "execution_count": 18,
   "metadata": {
    "collapsed": false
   },
   "outputs": [
    {
     "data": {
      "text/plain": [
       "<matplotlib.text.Text at 0x10eca6390>"
      ]
     },
     "execution_count": 18,
     "metadata": {},
     "output_type": "execute_result"
    },
    {
     "data": {
      "image/png": "[encoded data removed]",
      "text/plain": [
       "<matplotlib.figure.Figure at 0x10f95f190>"
      ]
     },
     "metadata": {},
     "output_type": "display_data"
    }
   ],
   "source": [
    "#sample 5000 points from a uniform distribution\n",
    "x=np.random.random(5000)\n",
    "#invert them using the expression we found above to get our y's\n",
    "y=np.sqrt(x)\n",
    "#lets plot a histogram to see if we get the triangular PDF we want\n",
    "plt.figure(figsize=(9,7))\n",
    "plt.hist(y, bins=15)\n",
    "plt.ylabel('frequency')\n",
    "plt.xlabel('y')"
   ]
  },
  {
   "cell_type": "markdown",
   "metadata": {},
   "source": [
    "## Problem 2: Transformation of variables, cartesian to polar"
   ]
  },
  {
   "cell_type": "markdown",
   "metadata": {},
   "source": [
    "### a) Determine p(r) "
   ]
  },
  {
   "cell_type": "markdown",
   "metadata": {},
   "source": [
    "x and y are indepedent variables, so the joing probability p(x,y) is can be written as p(x)p(y)\n",
    "x and y are both gausian random variables with zero mean and the same variance $\\sigma^2$. \n",
    "we may write p(x)p(y) = \n",
    "\n",
    "$$\\frac{1}{\\sqrt{2 \\pi \\sigma^2}} \\exp(\\frac{-x^2}{2\\sigma^2}) \\frac{1}{\\sqrt{2 \\pi \\sigma^2}} \\exp(\\frac{-y^2}{2\\sigma^2})$$\n",
    "\n",
    "To transform to polar coordinates to get $p(r,\\theta)$ we must calculate the Jacobian. First we remember the relationships between $x, y, r,$ and $\\theta$\n",
    "\n",
    "$$x(r,\\theta) = r\\cos\\theta ,\\ y(r,\\theta)= r\\sin\\theta $$ \n",
    "\n",
    "$$ \\frac{\\mathrm{d}x}{\\mathrm{d}r} = \\cos\\theta ,\\  \\frac{\\mathrm{d}y}{\\mathrm{d}r} = \\sin\\theta$$\n",
    "\n",
    "$$ \\frac{\\mathrm{d}x}{\\mathrm{d}\\theta} = -r\\sin\\theta ,\\  \\frac{\\mathrm{d}y}{\\mathrm{d}\\theta} = r\\cos\\theta$$\n",
    "\n",
    "Now we may construct the Jacobian\n",
    "\n",
    "$$ J = \n",
    "\\begin{pmatrix}\n",
    "\\cos\\theta & -r\\sin\\theta \\\\\n",
    "\\sin\\theta & r\\cos\\theta \\\\\n",
    "\\end{pmatrix}\n",
    "$$\n",
    "\n",
    "Whose determinant is equal to $r$. Using this we may express \n",
    "\n",
    "$$p(r,\\theta) = \\frac{r}{2\\pi\\sigma^2}\\exp(\\frac{-r^2}{2\\sigma^2}) $$\n",
    "\n",
    "We may marganalize this PDF to get $p(r)$ only. To do this we integrate over the unwanted variable\n",
    "\n",
    "$$ p(r) = \\int_0^{2\\pi} \\frac{r}{2\\pi\\sigma^2}\\exp(\\frac{-r^2}{2\\sigma^2}) \\mathrm{d}\\theta $$\n",
    "\n",
    "$$=  \\frac{r}{\\sigma^2}\\exp(\\frac{-r^2}{2\\sigma^2}) $$\n",
    "\n"
   ]
  },
  {
   "cell_type": "markdown",
   "metadata": {},
   "source": [
    "### b) Determine $\\sigma$ "
   ]
  },
  {
   "cell_type": "markdown",
   "metadata": {},
   "source": [
    "we are told the sattelite has a 90% error radius of 3 arc seconds. So if we integrate p(r) from 0 to 3 arc seconds we expect to have 90% of the area under the curve.\n",
    "\n",
    "$$\\int_0^3 \\frac{r}{\\sigma^2}\\exp(\\frac{-r^2}{2\\sigma^2}) \\mathrm{d}r = .9 $$\n",
    "\n",
    "now do a u substitution. let $u = \\frac{r^2}{2\\sigma^2} $ so that $\\mathrm{d}u = \\frac{r}{\\sigma^2} \\mathrm{d}r$\n",
    "\n",
    "$$ .9 = \\int_{u1}^{u2} \\exp(-u) \\mathrm{d}u  = -\\exp(-u) \\Big|_{u1}^{u2}$$\n",
    "\n",
    "putting back our definition of u and our limits we have\n",
    "\n",
    "$$ 0.9 = -\\exp(\\frac{-r^2}{2\\sigma^2}) \\Big|_0^3 $$\n",
    "\n",
    "$$ .1 = \\exp(\\frac{-9}{2\\sigma^2}) $$ \n",
    "\n",
    "$$ -\\ln(.1)\\frac{2}{9} = \\frac{1}{\\sigma^2} $$\n",
    "\n",
    "$$ \\frac{9}{2\\ln(10)} = \\sigma^2$$\n",
    "\n",
    "finally we have \n",
    "\n",
    "$$\\sigma = \\sqrt{\\frac{9}{2\\ln(10)}} \\approx 1.398 $$"
   ]
  },
  {
   "cell_type": "markdown",
   "metadata": {},
   "source": [
    "### c) check your answer numerically"
   ]
  },
  {
   "cell_type": "code",
   "execution_count": 29,
   "metadata": {
    "collapsed": false
   },
   "outputs": [
    {
     "data": {
      "text/plain": [
       "<matplotlib.text.Text at 0x111082b50>"
      ]
     },
     "execution_count": 29,
     "metadata": {},
     "output_type": "execute_result"
    },
    {
     "data": {
      "image/png": "[encoded data removed]",
      "text/plain": [
       "<matplotlib.figure.Figure at 0x10f254050>"
      ]
     },
     "metadata": {},
     "output_type": "display_data"
    }
   ],
   "source": [
    "#first lets define x and y by drawing 5000 samples from a gaussian pdf\n",
    "#with mean = 0 and variance = to what we found above\n",
    "\n",
    "sig=3.0/np.sqrt(2 * np.log(10))\n",
    "x=np.random.normal(0,sig,5000)\n",
    "y=np.random.normal(0,sig,5000)\n",
    "\n",
    "#now define r\n",
    "r = np.sqrt(np.square(x) + np.square(y))\n",
    "\n",
    "#lets plot up a histogram of r to see if it looks the way we expect\n",
    "#we expect something like r*exp(-r^2 / 2sigma)\n",
    "plt.figure(figsize=(9,7))\n",
    "plt.hist(r, bins=15)\n",
    "plt.xlabel('r')\n",
    "plt.ylabel('frequency')"
   ]
  },
  {
   "cell_type": "code",
   "execution_count": 30,
   "metadata": {
    "collapsed": false
   },
   "outputs": [
    {
     "name": "stdout",
     "output_type": "stream",
     "text": [
      "90.240 percent of the points are inside 3 arc seconds\n"
     ]
    }
   ],
   "source": [
    "#to determine what percentage of points is inside 3 arc seconds\n",
    "#let us mask out those values which are inside 3 arcseconds and then do some accounting\n",
    "\n",
    "mask=r>=3\n",
    "num_out=r[mask].size\n",
    "frac_out = float(num_out/5000.0)\n",
    "percent_out = 100*frac_out\n",
    "percent_in=100-percent_out\n",
    "print \"%.3f percent of the points are inside 3 arc seconds\" %percent_in"
   ]
  },
  {
   "cell_type": "markdown",
   "metadata": {},
   "source": [
    "We expected a result of 90%, and got a result near a quarter of one percent away from the prediction"
   ]
  },
  {
   "cell_type": "markdown",
   "metadata": {},
   "source": [
    "## Problem 3: Covariance, correlation, and hypothesis testing"
   ]
  },
  {
   "cell_type": "code",
   "execution_count": 24,
   "metadata": {
    "collapsed": false
   },
   "outputs": [
    {
     "name": "stdout",
     "output_type": "stream",
     "text": [
      "the elements of the Covariance Matrix are Cxx = 1.048 Cyy = 0.084 and Cxy = Cyx = 0.266\n",
      "the value of our r statistic is 0.897\n"
     ]
    }
   ],
   "source": [
    "#read in the data\n",
    "table=ascii.read('lx_t.dat')\n",
    "\n",
    "#define our variables\n",
    "x=np.log10(table['L'].data)\n",
    "y=np.log10(table['T'].data)\n",
    "x_bar = x.mean()\n",
    "y_bar = y.mean()\n",
    "N=x.size\n",
    "\n",
    "#define departures from the mean. this will make some caluculations look neater below\n",
    "x_dep=(x-x_bar)\n",
    "y_dep=(y-y_bar)\n",
    "\n",
    "#calculate covariances. We use a vectorized scheme using matrix multiplication\n",
    "#remember its symmetric so Cxy = Cyx\n",
    "Cxx=x_dep.dot(x_dep.T)/N\n",
    "Cyy=y_dep.dot(y_dep.T)/N\n",
    "Cxy=x_dep.dot(y_dep.T)/N\n",
    "\n",
    "#r can be constructed from the values we calculated\n",
    "r=Cxy/(np.sqrt(Cxx*Cyy))\n",
    "\n",
    "print \"the elements of the Covariance Matrix are Cxx = %.3f Cyy = %.3f and Cxy = Cyx = %.3f\" %(Cxx, Cyy, Cxy)\n",
    "print \"the value of our r statistic is %.3f\" %r"
   ]
  },
  {
   "cell_type": "code",
   "execution_count": 26,
   "metadata": {
    "collapsed": false
   },
   "outputs": [
    {
     "name": "stdout",
     "output_type": "stream",
     "text": [
      "the standard deviation assuming gaussian errors is 0.061\n"
     ]
    }
   ],
   "source": [
    "#we calculate sigma for the distribution, assuming gaussian errors\n",
    "sig_gaus=1/np.sqrt(N)\n",
    "print \"the standard deviation assuming gaussian errors is %.3f\" %sig_gaus"
   ]
  },
  {
   "cell_type": "code",
   "execution_count": 27,
   "metadata": {
    "collapsed": false
   },
   "outputs": [
    {
     "name": "stdout",
     "output_type": "stream",
     "text": [
      "our r statistic is 14.819 sigma above from the mean\n"
     ]
    }
   ],
   "source": [
    "#now find how many sigma r is worth. comparing r and sigma we see r is above sigma\n",
    "print \"our r statistic is %.3f sigma above from the mean\" %(r/sig_gaus)"
   ]
  },
  {
   "cell_type": "markdown",
   "metadata": {
    "collapsed": false
   },
   "source": [
    "the r statistic is ~14.8 $\\sigma$ away from the mean. A 95% level would be about 2 $\\sigma$. Our result is well above this threshold. As a result, we reject the null hypothesis that there is no correlation at the 95% level"
   ]
  },
  {
   "cell_type": "code",
   "execution_count": 22,
   "metadata": {
    "collapsed": false
   },
   "outputs": [
    {
     "name": "stdout",
     "output_type": "stream",
     "text": [
      "our values for a and b are -10.174 and 0.242 respectively\n"
     ]
    },
    {
     "data": {
      "image/png": "[encoded data removed]",
      "text/plain": [
       "<matplotlib.figure.Figure at 0x10f9447d0>"
      ]
     },
     "metadata": {},
     "output_type": "display_data"
    }
   ],
   "source": [
    "#here we define the model parameters a and b that are defined in class.\n",
    "a= y_bar - ((Cxy)/(Cxx**2))*x_bar\n",
    "\n",
    "b=((Cxy)/(Cxx**2))\n",
    "\n",
    "#using these we can make predictions for our model\n",
    "#copy over the xdata\n",
    "x_model = x.copy()\n",
    "#sort the x data. this makes it ordered nicely when plotted\n",
    "x_model.sort()\n",
    "#use the x inputs to make y value predictions from our model\n",
    "y_model =  a + b*x_model\n",
    "\n",
    "plt.figure(figsize=(9,7))\n",
    "plt.xlabel('Log $_{10}$ L')\n",
    "plt.ylabel('Log $_{10}$ T')\n",
    "plt.plot(x, y, 'bo', ms=4.0, label='data')\n",
    "plt.plot(x_model, y_model, linewidth=3.0, label='model')\n",
    "plt.legend(loc=\"upper left\")\n",
    "\n",
    "print \"our values for a and b are %.3f and %.3f respectively\" %(a, b)"
   ]
  },
  {
   "cell_type": "code",
   "execution_count": null,
   "metadata": {
    "collapsed": true
   },
   "outputs": [],
   "source": []
  }
 ],
 "metadata": {
  "anaconda-cloud": {},
  "kernelspec": {
   "display_name": "Python [Root]",
   "language": "python",
   "name": "Python [Root]"
  },
  "language_info": {
   "codemirror_mode": {
    "name": "ipython",
    "version": 2
   },
   "file_extension": ".py",
   "mimetype": "text/x-python",
   "name": "python",
   "nbconvert_exporter": "python",
   "pygments_lexer": "ipython2",
   "version": "2.7.12"
  }
 },
 "nbformat": 4,
 "nbformat_minor": 0
}
